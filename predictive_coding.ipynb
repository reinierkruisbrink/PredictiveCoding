{
 "cells": [
  {
   "cell_type": "code",
   "execution_count": 1,
   "metadata": {},
   "outputs": [],
   "source": [
    "import numpy as np\n",
    "import matplotlib.pyplot as plt\n",
    "import matplotlib.gridspec as gridspec"
   ]
  },
  {
   "cell_type": "markdown",
   "metadata": {},
   "source": [
    "# TODO:\n",
    "\n",
    "- experiments:\n",
    "    - l(A) i(A...A B A...A)\n",
    "    - l(AAAB) i(A...A B A...A)\n",
    "    - l(s(A)) i(s(A)...s(A) B s(A))\n",
    "\n",
    "- plots:\n",
    "    - title and axes\n",
    "    - error per learning step\n",
    "    - input/stimuli\n",
    "    - intermediate predictions/reconstructions\n",
    "\n",
    "- 2xe: if P>I: e_neg=I-P, e_pos=P-I && if P<I: e_neg=I-P, e_pos=P-I\n",
    "    - cap errors at zero\n",
    "    \n",
    "    \n",
    "    \n",
    "- different oddball paradigm"
   ]
  },
  {
   "cell_type": "code",
   "execution_count": 52,
   "metadata": {},
   "outputs": [],
   "source": [
    "SHAPES = {\n",
    "    'diamond': np.array([[0], [1], [0], [1], [0], [1], [0], [1], [0]]),\n",
    "    'cross':  np.array([[1], [0], [1], [0], [1], [0], [1], [0], [1]]),\n",
    "    'plus':  np.array([[0], [1], [0], [1], [1], [1], [0], [1], [0]]),\n",
    "    'full': np.array([[1], [1], [1], [1], [1], [1], [1], [1], [1]]),\n",
    "    'square':  np.array([[1], [1], [1], [1], [0], [1], [1], [1], [1]]),\n",
    "    'point':  np.array([[0], [0], [0], [0], [1], [0], [0], [0], [0]]),\n",
    "    'vline':  np.array([[0], [1], [0], [0], [1], [0], [0], [1], [0]]),\n",
    "    'hline':  np.array([[0], [0], [0], [1], [1], [1], [0], [0], [0]]),\n",
    "    'fslash':  np.array([[0], [0], [1], [0], [1], [0], [1], [0], [0]]),\n",
    "    'bslash':  np.array([[0], [0], [1], [0], [1], [0], [1], [0], [0]]),\n",
    "    'unstructured': np.random.rand(9,1)\n",
    "}\n",
    "\n",
    "def input_plus_noise(x):\n",
    "    return x + np.random.normal(loc=0, scale=0.05, size=x.shape)\n",
    "\n",
    "# simulation parameters\n",
    "sim_time = 1 #sec\n",
    "dt = 1e-4\n",
    "n_iter = 200"
   ]
  },
  {
   "cell_type": "code",
   "execution_count": 47,
   "metadata": {
    "scrolled": false
   },
   "outputs": [],
   "source": [
    "class PC_model():\n",
    "    \n",
    "    def __init__(self, e_dims, r_dims):\n",
    "        self.n_layers = len(e_dims)\n",
    "        self.e = []\n",
    "        self.r = []\n",
    "        self.U = []\n",
    "        for e,r in zip(e_dims, r_dims):\n",
    "            # Error layers\n",
    "            self.e.append(np.ones((e, 1)) * 0.1)\n",
    "            # Prediction/Representation layers\n",
    "            self.r.append(np.ones((r, 1)) * 0.1)\n",
    "            # Generative Models\n",
    "            self.U.append(np.random.normal(loc=0.01, scale=0.005, size=(e, r)))\n",
    "        # Top-down prior\n",
    "        self.td_prior = np.random.normal(loc=0.5, scale=0.1, size=(r_dims[-1], 1))\n",
    "         \n",
    "    def act(self, x, func):\n",
    "        if func == 'sigmoid':\n",
    "            return 1/(1 + np.exp(-x))\n",
    "        elif func == 'relu':\n",
    "            return x*(x > 0)\n",
    "        else:\n",
    "            return x\n",
    "    \n",
    "    def reconstruct(self, l):\n",
    "        # Reconstruct bottom-up input at layer l\n",
    "        return self.act(self.U[l] @ self.r[l], 'sigmoid')\n",
    "    \n",
    "    def error(self, x):\n",
    "        # Compute error between stimulus and first layer prediction\n",
    "        self.e[0] = x - self.reconstruct(0)\n",
    "        # Compute errors between bottom-up representation and current layer prediction \n",
    "        for l in range(1, self.n_layers):\n",
    "            self.e[l] = self.r[l-1] - self.reconstruct(l)\n",
    "    \n",
    "    def infer(self, x):\n",
    "        # Compute all prediciton errors\n",
    "        self.error(x)\n",
    "        for l in range(0, self.n_layers-1):\n",
    "            self.r[l] = self.r[l-1] + self.act(self.U[l].T @ self.e[l], 'sigmoid')\n",
    "        self.r[-1] = self.td_prior + self.act(self.U[-1].T @ self.e[-1], 'sigmoid')\n",
    "\n",
    "    \n",
    "    def learn(self, lr=1e-3):\n",
    "        for l in range(0, self.n_layers):\n",
    "            dU = np.einsum('ik,jk->ij', self.e[l], self.r[l])\n",
    "            self.U[l] += lr * dU\n",
    "    \n",
    "    def SSE(self, l):\n",
    "        # Sum of squared errors at the layer l\n",
    "        return np.sum(np.square(self.e[l]))\n",
    "    \n",
    "    def memory_loss(self):\n",
    "        # Degradation of synaptic weights\n",
    "        for l in range(0, self.n_layers):\n",
    "            self.U[l] += np.random.normal(loc=0, scale=0.005, size=self.U[l].shape)\n",
    "    \n",
    "    def simulate(self, learning_steps, inference_steps, stimuli, learning=True):\n",
    "        errors = []\n",
    "        for i in range(learning_steps):\n",
    "            # Inference\n",
    "            for t in range(inference_steps):\n",
    "                self.infer(stimuli[i%len(stimuli)])\n",
    "            #Learning\n",
    "            if learning:\n",
    "                self.learn()\n",
    "                self.memory_loss()\n",
    "            errors.append(pc.SSE(0))\n",
    "                \n",
    "            if (i + 1) % 20 == 0:\n",
    "                print (f'Iteration #{i + 1} is simulated, error: {errors[i]}')\n",
    "        return errors, self.reconstruct(0)\n",
    "    \n",
    "    def visualize(self, standard, deviant, recon, errors):\n",
    "        fig = plt.figure(figsize=(10,6), constrained_layout=True)\n",
    "        gs = fig.add_gridspec(3,3)\n",
    "        fig_ax1 = fig.add_subplot(gs[0, 0])\n",
    "        fig_ax1.imshow(standard.reshape(3,3), vmin=0, vmax=1, cmap='Reds')\n",
    "        fig_ax1.axis('off')\n",
    "        fig_ax1.set_title('Standard Stimulus')\n",
    "        fig_ax2 = fig.add_subplot(gs[0, 1])\n",
    "        fig_ax2.imshow(deviant.reshape(3,3), vmin=0, vmax=1, cmap='Reds')\n",
    "        fig_ax2.axis('off')\n",
    "        fig_ax2.set_title('Deviant Stimulus')\n",
    "        fig_ax3 = fig.add_subplot(gs[0, 2])\n",
    "        fig_ax3.imshow(recon.reshape(3,3), vmin=0, vmax=1, cmap='Reds')\n",
    "        fig_ax3.axis('off')\n",
    "        fig_ax3.set_title('Reconstruction')\n",
    "        fig_ax4 = fig.add_subplot(gs[1, :])\n",
    "        fig_ax4.plot(errors)\n",
    "        fig_ax4.set_title('Omission Experiment')\n",
    "        fig_ax4.set_xlabel('# iteration')\n",
    "        fig_ax4.set_ylabel('Error (SSE)')\n",
    "        plt.show()\n",
    "\n",
    "# simulation parameters\n",
    "inference_steps = 1000\n",
    "learning_steps = 50\n",
    "\n",
    "# sA = input_plus_noise(SHAPES['diamond'])\n",
    "\n",
    "# # predictive coding model\n",
    "# # form of the input: PC_model([a, b, c], [b, c, d]) \n",
    "# pc = PC_model([9], [100])\n",
    "# errors, recon = pc.simulate(learning_steps, inference_steps, [sA])\n",
    "# pc.visualize(sA, recon, errors)"
   ]
  },
  {
   "cell_type": "code",
   "execution_count": 53,
   "metadata": {},
   "outputs": [
    {
     "name": "stdout",
     "output_type": "stream",
     "text": [
      "Iteration #20 is simulated, error: 1.070223967771548\n",
      "Iteration #40 is simulated, error: 0.44517401993031963\n"
     ]
    },
    {
     "data": {
      "image/png": "[encoded data removed]",
      "text/plain": [
       "<Figure size 720x432 with 4 Axes>"
      ]
     },
     "metadata": {
      "needs_background": "light"
     },
     "output_type": "display_data"
    }
   ],
   "source": [
    "# Repetition\n",
    "\n",
    "sA = input_plus_noise(SHAPES['diamond'])\n",
    "sB = input_plus_noise(SHAPES['plus'])\n",
    "\n",
    "# predictive coding model\n",
    "pc = PC_model([9], [100])\n",
    "errors1, _ = pc.simulate(learning_steps, inference_steps, [sA], learning=True)\n",
    "errors2, recon = pc.simulate(9, inference_steps, [sA, sA, sA, sA, sB], learning=False)\n",
    "pc.visualize(sA, sB, recon, errors1+errors2)"
   ]
  },
  {
   "cell_type": "code",
   "execution_count": 50,
   "metadata": {},
   "outputs": [
    {
     "name": "stdout",
     "output_type": "stream",
     "text": [
      "Iteration #20 is simulated, error: 1.129036981873477\n",
      "Iteration #40 is simulated, error: 0.533505495987823\n"
     ]
    },
    {
     "data": {
      "image/png": "[encoded data removed]",
      "text/plain": [
       "<Figure size 720x432 with 4 Axes>"
      ]
     },
     "metadata": {
      "needs_background": "light"
     },
     "output_type": "display_data"
    }
   ],
   "source": [
    "# Omission (structure omission)\n",
    "\n",
    "sA = input_plus_noise(SHAPES['cross'])\n",
    "sB = input_plus_noise(SHAPES['unstructured'])\n",
    "\n",
    "# predictive coding model\n",
    "pc = PC_model([9], [100])\n",
    "errors1, _ = pc.simulate(learning_steps, inference_steps, [sA], learning=True)\n",
    "errors2, recon = pc.simulate(9, inference_steps, [sA, sA, sA, sA, sB], learning=False)\n",
    "pc.visualize(sA, sB, recon, errors1+errors2)"
   ]
  },
  {
   "cell_type": "code",
   "execution_count": 49,
   "metadata": {},
   "outputs": [
    {
     "name": "stdout",
     "output_type": "stream",
     "text": [
      "Iteration #20 is simulated, error: 0.37745867536820343\n",
      "Iteration #40 is simulated, error: 0.21828664976316686\n"
     ]
    },
    {
     "data": {
      "image/png": "[encoded data removed]",
      "text/plain": [
       "<Figure size 720x432 with 4 Axes>"
      ]
     },
     "metadata": {
      "needs_background": "light"
     },
     "output_type": "display_data"
    }
   ],
   "source": [
    "# Omission (pixel omission)\n",
    "\n",
    "sA = input_plus_noise(SHAPES['full'])\n",
    "sB = input_plus_noise(SHAPES['square'])\n",
    "\n",
    "# predictive coding model\n",
    "pc = PC_model([9], [100])\n",
    "errors1, _ = pc.simulate(learning_steps, inference_steps, [sA], learning=True)\n",
    "errors2, recon = pc.simulate(9, inference_steps, [sA, sA, sA, sA, sB], learning=False)\n",
    "pc.visualize(sA, sB, recon, errors1+errors2)"
   ]
  },
  {
   "cell_type": "markdown",
   "metadata": {},
   "source": [
    "# negative errors below, but not working"
   ]
  },
  {
   "cell_type": "code",
   "execution_count": 8,
   "metadata": {},
   "outputs": [
    {
     "name": "stdout",
     "output_type": "stream",
     "text": [
      "Iteration #20 is simulated, error: 0.0, 0.4754262330063257\n",
      "Iteration #40 is simulated, error: 0.0, 0.47539300446608324\n",
      "Iteration #60 is simulated, error: 0.0, 0.47533954431248543\n",
      "Iteration #80 is simulated, error: 0.0, 0.4752531381817302\n",
      "Iteration #100 is simulated, error: 0.0, 0.475113076518083\n"
     ]
    },
    {
     "data": {
      "image/png": "[encoded data removed]",
      "text/plain": [
       "<Figure size 720x432 with 3 Axes>"
      ]
     },
     "metadata": {
      "needs_background": "light"
     },
     "output_type": "display_data"
    }
   ],
   "source": [
    "class PC_model():\n",
    "    \n",
    "    def __init__(self, e_dims, r_dims):\n",
    "        self.n_layers = len(e_dims)\n",
    "        self.e_pos = []\n",
    "        self.e_neg = []\n",
    "        self.r = []\n",
    "        self.U = []\n",
    "        for e,r in zip(e_dims, r_dims):\n",
    "            # Error layers\n",
    "            self.e_neg.append(np.ones((e, 1)) * 0.1)\n",
    "            self.e_pos.append(np.ones((e, 1)) * -0.1)\n",
    "            # Prediction/Representation layers\n",
    "            self.r.append(np.ones((r, 1)) * 0.1)\n",
    "            # Generative Models\n",
    "            self.U.append(np.random.normal(loc=0.01, scale=0.005, size=(e, r)))\n",
    "        # Top-down prior\n",
    "        self.td_prior = np.random.normal(loc=0.5, scale=0.1, size=(r_dims[-1], 1))\n",
    "         \n",
    "    def act(self, x, func):\n",
    "        if func == 'sigmoid':\n",
    "            return 1/(1 + np.exp(-x+10))\n",
    "        elif func == 'relu':\n",
    "            return x*(x > 0)\n",
    "        else:\n",
    "            return x\n",
    "    \n",
    "    def reconstruct(self, l):\n",
    "        # Reconstruct bottom-up input at layer l\n",
    "        return self.act(self.U[l] @ self.r[l], 'sigmoid')\n",
    "    \n",
    "    def error(self, x):\n",
    "        # Compute error between stimulus and first layer prediction\n",
    "        r = self.reconstruct(0)\n",
    "        self.e_pos[0] = self.act(r - x, 'relu')\n",
    "        self.e_neg[0] = self.act(x - r, 'relu')\n",
    "        # Compute errors between bottom-up representation and current layer prediction \n",
    "        for l in range(1, self.n_layers):\n",
    "            r = self.reconstruct(l)\n",
    "            self.e_pos[l] = self.act(self.r[l-1] - r, 'relu')\n",
    "            self.e_neg[l] = self.act(r - self.r[l-1], 'relu')\n",
    "    \n",
    "    def predict(self, x):\n",
    "        # Compute all prediciton errors\n",
    "        self.error(x)\n",
    "        # Inference\n",
    "        for l in range(0, self.n_layers-1):\n",
    "            self.r[l] = self.act(self.U[l].T @ self.e_neg[l], 'sigmoid')\n",
    "            #            self.act(self.U[l].T @ self.e_pos[l], 'sigmoid')\n",
    "\n",
    "        self.r[-1] = self.td_prior + self.act(self.U[-1].T @ self.e_neg[-1], 'sigmoid')\n",
    "        #            self.act(self.U[-1].T @ self.e_pos[-1], 'sigmoid')\n",
    "\n",
    "    \n",
    "    def update(self, lr=1e-3):\n",
    "        # Learning\n",
    "        for l in range(0, self.n_layers):\n",
    "            dU = np.einsum('ik,jk->ij', (self.e_neg[l]), self.r[l])\n",
    "            self.U[l] += lr * dU\n",
    "            \n",
    "    def memory_loss(self):\n",
    "        # Degradation of synaptic weights\n",
    "        for l in range(0, self.n_layers):\n",
    "            self.U[l] += np.random.normal(loc=0, scale=0.1, size=self.U[l].shape)\n",
    "    \n",
    "    #def SSE(self):\n",
    "    #    # Sum of squared errors at all layers\n",
    "    #    SSEs = []\n",
    "    #    for l in range(0, len(self.e)):\n",
    "    #        SSEs.append(np.sum(np.square(self.e[l])))\n",
    "    #    return SSEs\n",
    "    \n",
    "    def SSE(self, l):\n",
    "        # Sum of squared errors at the layer l\n",
    "        #return np.sum(np.square(self.e[l]))\n",
    "        return np.mean(self.e_pos[l]), np.mean(self.e_neg[l])\n",
    "    \n",
    "    def simulate(self, learning_steps, inference_steps, standard, deviant=None):\n",
    "        errors_p, errors_n = [], []\n",
    "        for i in range(learning_steps):\n",
    "            # Inference\n",
    "            for t in range(inference_steps):\n",
    "                self.predict(standard)\n",
    "            #Learning\n",
    "            self.update()\n",
    "            #self.memory_loss()\n",
    "            ep, en = pc.SSE(0)\n",
    "            errors_p.append(ep)\n",
    "            errors_n.append(en)\n",
    "            if (i + 1) % 20 == 0:\n",
    "                print (f'Iteration #{i + 1} is simulated, error: {errors_p[i]}, {errors_n[i]}')\n",
    "        return errors_p, errors_n, self.reconstruct(0)\n",
    "    \n",
    "    def visualize(self, standard, recon, errors_p, errors_n):\n",
    "        fig = plt.figure(figsize=(10,6), constrained_layout=True)\n",
    "        gs = fig.add_gridspec(2,2)\n",
    "        fig_ax1 = fig.add_subplot(gs[0, 0])\n",
    "        fig_ax1.imshow(standard.reshape(3,3), vmin=0, vmax=1, cmap='Reds')\n",
    "        fig_ax1.axis('off')\n",
    "        fig_ax1.set_title('input')\n",
    "        fig_ax2 = fig.add_subplot(gs[0, 1])\n",
    "        fig_ax2.imshow(recon.reshape(3,3), vmin=0, vmax=1, cmap='Reds')\n",
    "        fig_ax2.axis('off')\n",
    "        fig_ax2.set_title('reconstruction')\n",
    "        fig_ax3 = fig.add_subplot(gs[1, :])\n",
    "        fig_ax3.plot(errors_p)\n",
    "        fig_ax3.plot(errors_n)\n",
    "        fig_ax3.set_xlabel('#iteration')\n",
    "        fig_ax3.set_ylabel('Error')\n",
    "        plt.show()\n",
    "\n",
    "\n",
    "# predictive coding model\n",
    "# form of the input: PC_model([a, b, c], [b, c, d]) \n",
    "pc = PC_model([9], [100])\n",
    "\n",
    "\n",
    "sA = input_plus_noise(SHAPES['diamond']) #make list and present list[i%len(list)]\n",
    "#sB = \n",
    "\n",
    "# simulation parameters\n",
    "inference_steps = 10000\n",
    "learning_steps = 100\n",
    "\n",
    "errors_p, errors_n, recon = pc.simulate(learning_steps, inference_steps, sA)\n",
    "pc.visualize(sA, recon, errors_p, errors_n)"
   ]
  }
 ],
 "metadata": {
  "kernelspec": {
   "display_name": "Python [conda env:root] *",
   "language": "python",
   "name": "conda-root-py"
  },
  "language_info": {
   "codemirror_mode": {
    "name": "ipython",
    "version": 3
   },
   "file_extension": ".py",
   "mimetype": "text/x-python",
   "name": "python",
   "nbconvert_exporter": "python",
   "pygments_lexer": "ipython3",
   "version": "3.7.4"
  }
 },
 "nbformat": 4,
 "nbformat_minor": 2
}
